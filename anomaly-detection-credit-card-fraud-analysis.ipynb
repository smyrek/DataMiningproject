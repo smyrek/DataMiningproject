{
 "cells": [
  {
   "cell_type": "code",
   "execution_count": null,
   "metadata": {
    "_kg_hide-input": true,
    "_uuid": "ffe749053d4433c7098d01498dc525bae9d3ebd6"
   },
   "outputs": [],
   "source": [
    "import numpy as np\n",
    "import pandas as pd\n",
    "import sklearn\n",
    "import scipy\n",
    "import matplotlib.pyplot as plt\n",
    "import seaborn as sns\n",
    "import plotly\n",
    "from sklearn.metrics import classification_report,accuracy_score\n",
    "from sklearn.ensemble import IsolationForest\n",
    "from sklearn.neighbors import LocalOutlierFactor\n",
    "from sklearn.svm import OneClassSVM\n",
    "from pylab import rcParams\n",
    "from sklearn.model_selection import learning_curve, train_test_split,GridSearchCV\n",
    "from sklearn.preprocessing import StandardScaler\n",
    "from sklearn.pipeline import make_pipeline, Pipeline\n",
    "from sklearn.metrics import accuracy_score, mean_absolute_error, classification_report\n",
    "from sklearn.linear_model import LogisticRegression\n",
    "from sklearn.tree import DecisionTreeClassifier\n",
    "from sklearn.ensemble import RandomForestClassifier\n",
    "from sklearn.neighbors import KNeighborsClassifier\n",
    "import seaborn as sns\n",
    "\n",
    "import itertools, time, datetime\n",
    "rcParams['figure.figsize'] = 14, 8\n",
    "RANDOM_SEED = 42\n",
    "LABELS = [\"Non-Default\", \"Default\"]\n",
    "import plotly.plotly as py\n",
    "import plotly.graph_objs as go\n",
    "import plotly.figure_factory as ff\n",
    "from plotly.offline import init_notebook_mode, iplot"
   ]
  },
  {
   "cell_type": "code",
   "execution_count": null,
   "metadata": {
    "_kg_hide-input": true,
    "_uuid": "254bbe6f4da144624ef2a95ff18c24d1ba1e0b27"
   },
   "outputs": [],
   "source": [
    "data = pd.read_csv('UCI_Credit_Card.csv',sep=',')\n",
    "\n",
    "print(data.columns)"
   ]
  },
  {
   "cell_type": "code",
   "execution_count": null,
   "metadata": {
    "_kg_hide-input": true,
    "_uuid": "9f333f15665e79c05932856aad1c4b672e36c1bb"
   },
   "outputs": [],
   "source": [
    "data1= data.sample(frac = 0.1,random_state=1)\n",
    "\n",
    "data1.shape"
   ]
  },
  {
   "cell_type": "code",
   "execution_count": null,
   "metadata": {
    "_kg_hide-input": true,
    "_uuid": "4929d7a0c4344a55434b13a7d98c5650bebee8e9"
   },
   "outputs": [],
   "source": [
    "data.describe()"
   ]
  },
  {
   "cell_type": "markdown",
   "metadata": {
    "_uuid": "29c955006970e99513df449028c3f06245846177"
   },
   "source": [
    "## Exploratory Data Analysis"
   ]
  },
  {
   "cell_type": "code",
   "execution_count": null,
   "metadata": {
    "_kg_hide-input": true,
    "_uuid": "d0ec36ceed7521cd1e770154d76ddc7cb7e820af"
   },
   "outputs": [],
   "source": [
    "data.shape\n",
    "\n",
    "# Check the shape of the imported datafram"
   ]
  },
  {
   "cell_type": "markdown",
   "metadata": {
    "_uuid": "b70e25fe4bb5020169d2a3d30fb878443377b0f7"
   },
   "source": [
    "Let us now check the missing values in the dataset"
   ]
  },
  {
   "cell_type": "code",
   "execution_count": null,
   "metadata": {
    "_kg_hide-input": true,
    "_uuid": "40526b81aae8ee85a87c37941ab9ac6375f46044"
   },
   "outputs": [],
   "source": [
    "data.isnull().values.any()\n",
    "\n",
    "# Check to see if there are any missing values"
   ]
  },
  {
   "cell_type": "code",
   "execution_count": null,
   "metadata": {
    "_kg_hide-input": true,
    "_uuid": "5542372a56941a0fd5ee1bedf9923a274132c563"
   },
   "outputs": [],
   "source": [
    "data.head()"
   ]
  },
  {
   "cell_type": "code",
   "execution_count": null,
   "metadata": {
    "_kg_hide-input": true,
    "_uuid": "e9ed7b7baa60ac9d9a32354e9eb21d7529891cfa"
   },
   "outputs": [],
   "source": [
    "count_classes = pd.value_counts(data['default.payment.next.month'], sort = True)\n",
    "\n",
    "count_classes.plot(kind = 'bar', rot=0)\n",
    "\n",
    "plt.title(\"Transaction Class Distribution\")\n",
    "\n",
    "plt.xticks(range(2), LABELS)\n",
    "\n",
    "plt.xlabel(\"Class\")\n",
    "\n",
    "plt.ylabel(\"Frequency\");"
   ]
  },
  {
   "cell_type": "code",
   "execution_count": null,
   "metadata": {
    "_kg_hide-input": true,
    "_uuid": "a10109bd86ec662ed70bbe5c61f3b9535e2c5fe3"
   },
   "outputs": [],
   "source": [
    "Default = data[data['default.payment.next.month']==1]\n",
    "\n",
    "Normal = data[data['default.payment.next.month']==0]\n"
   ]
  },
  {
   "cell_type": "code",
   "execution_count": null,
   "metadata": {
    "_kg_hide-input": true,
    "_uuid": "bbbfbadb438b51b65f71cc6ee8751d8491892c47"
   },
   "outputs": [],
   "source": [
    "Default.shape\n",
    "\n",
    "# Number of default accounts"
   ]
  },
  {
   "cell_type": "code",
   "execution_count": null,
   "metadata": {
    "_kg_hide-input": true,
    "_uuid": "fb1db209eb0267b0c3e75be5a52c5caf9c1f8e0c"
   },
   "outputs": [],
   "source": [
    "Normal.shape\n",
    "\n",
    "# Number of current accounts"
   ]
  },
  {
   "cell_type": "code",
   "execution_count": null,
   "metadata": {
    "_kg_hide-input": true,
    "_uuid": "f703978db6f4fbec51dd4751db85a7e15954cc20"
   },
   "outputs": [],
   "source": [
    "f, (ax1, ax2) = plt.subplots(2, 1, sharex=True)\n",
    "f.suptitle('Time of transaction vs Amount by class')\n",
    "ax1.scatter(Fraud.Time, Fraud.Amount)\n",
    "ax1.set_title('Fraud')\n",
    "ax2.scatter(Normal.Time, Normal.Amount)\n",
    "ax2.set_title('Normal')\n",
    "plt.xlabel('Time (in Seconds)')\n",
    "plt.ylabel('Amount')\n",
    "plt.show()\n"
   ]
  },
  {
   "cell_type": "code",
   "execution_count": null,
   "metadata": {
    "_kg_hide-input": true,
    "_uuid": "6038cec0653e6065198c39aff009b032c0abf00a"
   },
   "outputs": [],
   "source": [
    "init_notebook_mode(connected=True)\n",
    "plotly.offline.init_notebook_mode(connected=True)"
   ]
  },
  {
   "cell_type": "code",
   "execution_count": null,
   "metadata": {
    "_kg_hide-input": true,
    "_uuid": "4122d5b053e8960e6df1376def862bb00f4f26b4"
   },
   "outputs": [],
   "source": [
    "data1.shape"
   ]
  },
  {
   "cell_type": "code",
   "execution_count": null,
   "metadata": {
    "_kg_hide-input": true,
    "_uuid": "d83ae9773b6a1b2267d553025d3fd9fabcdcc26e"
   },
   "outputs": [],
   "source": [
    "data1.hist(figsize=(20,20))\n",
    "plt.show()"
   ]
  },
  {
   "cell_type": "code",
   "execution_count": null,
   "metadata": {
    "_kg_hide-input": true,
    "_uuid": "add0d489bdabc1000d443dfdfb2c77c53524353e"
   },
   "outputs": [],
   "source": [
    "correlation_matrix = data1.corr()\n",
    "\n",
    "fig = plt.figure(figsize=(12,9))\n",
    "\n",
    "sns.heatmap(correlation_matrix,vmax=0.8,square = True)\n",
    "\n",
    "plt.show()"
   ]
  },
  {
   "cell_type": "markdown",
   "metadata": {
    "_uuid": "1c40d2ffe6c9ce35ba1f09ed42e646b120129905"
   },
   "source": [
    "Get all the columns from the dataframe"
   ]
  },
  {
   "cell_type": "code",
   "execution_count": null,
   "metadata": {
    "_kg_hide-input": true,
    "_uuid": "374066c418100f772f7c3933558d902d0ce0e90d"
   },
   "outputs": [],
   "source": [
    "columns = data1.columns.tolist()\n",
    "# Filter the columns to remove data we do not want \n",
    "columns = [c for c in columns if c not in [\"Class\"]]\n",
    "# Store the variable we are predicting \n",
    "target = \"default.payment.next.month\"\n",
    "# Define a random state \n",
    "state = np.random.RandomState(42)\n",
    "X = data1[columns]\n",
    "Y = data1[target]\n",
    "X_outliers = state.uniform(low=0, high=1, size=(X.shape[0], X.shape[1]))\n",
    "# Print the shapes of X & Y\n",
    "print(X.shape)\n",
    "print(Y.shape)"
   ]
  },
  {
   "cell_type": "code",
   "execution_count": null,
   "metadata": {
    "_kg_hide-input": true,
    "_uuid": "155355c45f18abc1f67fbdebb7498c498f88b81c"
   },
   "outputs": [],
   "source": [
    "classifiers = {\n",
    "    \"Isolation Forest\":IsolationForest(n_estimators=100, max_samples=len(X), \n",
    "                                       contamination=outlier_fraction,random_state=state, verbose=0),\n",
    "    \"Local Outlier Factor\":LocalOutlierFactor(n_neighbors=20, algorithm='auto', \n",
    "                                              leaf_size=30, metric='minkowski',\n",
    "                                              p=2, metric_params=None, contamination=outlier_fraction),\n",
    "    \"Support Vector Machine\":OneClassSVM(kernel='rbf', degree=3, gamma=0.1,nu=0.05, \n",
    "                                         max_iter=-1, random_state=state)\n",
    "   \n",
    "}"
   ]
  },
  {
   "cell_type": "code",
   "execution_count": null,
   "metadata": {
    "_kg_hide-input": true,
    "_uuid": "8b635e8a65b72a8107385d42c9ae31322df84be7"
   },
   "outputs": [],
   "source": [
    "n_outliers = len(Default)\n",
    "for i, (clf_name,clf) in enumerate(classifiers.items()):\n",
    "    #Fit the data and tag outliers\n",
    "    if clf_name == \"Local Outlier Factor\":\n",
    "        y_pred = clf.fit_predict(X)\n",
    "        scores_prediction = clf.negative_outlier_factor_\n",
    "    elif clf_name == \"Support Vector Machine\":\n",
    "        clf.fit(X)\n",
    "        y_pred = clf.predict(X)\n",
    "    else:    \n",
    "        clf.fit(X)\n",
    "        scores_prediction = clf.decision_function(X)\n",
    "        y_pred = clf.predict(X)\n",
    "    #Reshape the prediction values to 0 for Current accounts , 1 for Default accounts\n",
    "    y_pred[y_pred == 1] = 0\n",
    "    y_pred[y_pred == -1] = 1\n",
    "    n_errors = (y_pred != Y).sum()\n",
    "    # Run Classification Metrics\n",
    "    print(\"{}: {}\".format(clf_name,n_errors))\n",
    "    print(\"Accuracy Score :\")\n",
    "    print(accuracy_score(Y,y_pred))\n",
    "    print(\"Classification Report :\")\n",
    "    print(classification_report(Y,y_pred))"
   ]
  },
  {
   "cell_type": "code",
   "execution_count": null,
   "metadata": {},
   "outputs": [],
   "source": [
    "y_target = data['default.payment.next.month'].values\n",
    "\n",
    "columns = data.columns.tolist()\n",
    "columns.remove('default.payment.next.month')\n",
    "\n",
    "x_attributes = data[columns].values\n",
    "\n",
    "\n",
    "## meaning of stratify = _y_target. returns test and training data having the same proportions of class label '_y_target'\n",
    "x_train,x_test,y_train, y_test = train_test_split(x_attributes, y_target, test_size =0.30, stratify = y_target, random_state = 1)"
   ]
  },
  {
   "cell_type": "code",
   "execution_count": null,
   "metadata": {},
   "outputs": [],
   "source": [
    "def plot_confusion_matrix(cm, classes, normalize=False, title='Confusion matrix', cmap=plt.cm.Blues):\n",
    "    \n",
    "    if normalize:\n",
    "        cm = cm.astype('float') / cm.sum(axis=1)[:, np.newaxis]\n",
    "        print(\"Normalized confusion matrix\")\n",
    "    else:\n",
    "        print('Confusion matrix, without normalization')\n",
    "\n",
    "    print(cm)\n",
    "\n",
    "    plt.imshow(cm, interpolation='nearest', cmap=cmap)\n",
    "    plt.title(title)\n",
    "    plt.colorbar()\n",
    "    tick_marks = arange(len(classes))\n",
    "    plt.xticks(tick_marks, classes, rotation=45)\n",
    "    plt.yticks(tick_marks, classes)\n",
    "\n",
    "    fmt = '.2f' if normalize else 'd'\n",
    "    thresh = cm.max() / 2.\n",
    "    for i, j in itertools.product(range(cm.shape[0]), range(cm.shape[1])):\n",
    "        plt.text(j, i, format(cm[i, j], fmt),\n",
    "                 horizontalalignment=\"center\",\n",
    "                 color=\"white\" if cm[i, j] > thresh else \"black\")\n",
    "\n",
    "    plt.ylabel('True label')\n",
    "    plt.xlabel('Predicted label')\n",
    "    plt.show()"
   ]
  },
  {
   "cell_type": "code",
   "execution_count": null,
   "metadata": {},
   "outputs": [],
   "source": [
    "def runGridSearchAndPredict(pipeline, x_train, y_train, x_test, y_test, param_grid):\n",
    "    response = {}\n",
    "\n",
    "    gridsearch = GridSearchCV(estimator = pipeline, param_grid = param_grid, cv = 10, n_jobs = 1, scoring = 'accuracy')\n",
    "\n",
    "    search = gridsearch.fit(x_train,y_train)\n",
    "\n",
    "    print(\"Grid Search Best parameters \", search.best_params_)\n",
    "    print(\"Grid Search Best score \", search.best_score_)\n",
    "\n",
    "    y_prediction = gridsearch.predict(x_test)\n",
    "\n",
    "    print(\"Accuracy score %s\" %accuracy_score(y_test,y_prediction))\n",
    "    print(\"F1 score %s\" %f1_score(y_test,y_prediction))\n",
    "    print(\"Classification report  \\n %s\" %(classification_report(y_test, y_prediction)))\n",
    "\n",
    "    plotLearningCurve(x_train, y_train, search.best_estimator_)\n",
    "    \n",
    "    return response"
   ]
  },
  {
   "cell_type": "code",
   "execution_count": null,
   "metadata": {},
   "outputs": [],
   "source": [
    "classifiers = [\n",
    "    LogisticRegression(random_state = 1),\n",
    "    DecisionTreeClassifier(random_state = 1, criterion = 'gini'),\n",
    "    KNeighborsClassifier(metric = 'minkowski'),\n",
    "]\n",
    "\n",
    "classifier_names = [\n",
    "            'logisticregression',\n",
    "            'decisiontreeclassifier',\n",
    "            'kneighborsclassifier',\n",
    "]\n",
    "\n",
    "classifier_param_grid = [\n",
    "            \n",
    "            {'logisticregression__C':[100,200,300,50,20,600]},\n",
    "            {'decisiontreeclassifier__max_depth':[6,7,8,9,10,11]},\n",
    "            {'kneighborsclassifier__n_neighbors':[4,6,7,8]},\n",
    "]"
   ]
  },
  {
   "cell_type": "code",
   "execution_count": null,
   "metadata": {},
   "outputs": [],
   "source": [
    "model_metrics = {}\n",
    "\n",
    "for model, model_name, model_param_grid in zip(classifiers, classifier_names, classifier_param_grid):\n",
    "\n",
    "    pipeline = Pipeline([('scaler', StandardScaler()),(model_name, model)])\n",
    "\n",
    "    result = runGridSearchAndPredict(pipeline, x_train, y_train, x_test, y_test, model_param_grid)\n",
    "\n",
    "    y_prediction = result['y_prediction']\n",
    "\n",
    "    _matrix = confusion_matrix(y_true = y_test ,y_pred = y_prediction)\n",
    "\n",
    "    model_metrics[model_name] = {}\n",
    "    model_metrics[model_name]['confusion_matrix'] = _matrix\n",
    "    model_metrics[model_name]['accuracy_score'] = result['accuracy_score']"
   ]
  }
 ],
 "metadata": {
  "kernelspec": {
   "display_name": "Python 3",
   "language": "python",
   "name": "python3"
  },
  "language_info": {
   "codemirror_mode": {
    "name": "ipython",
    "version": 3
   },
   "file_extension": ".py",
   "mimetype": "text/x-python",
   "name": "python",
   "nbconvert_exporter": "python",
   "pygments_lexer": "ipython3",
   "version": "3.6.5"
  }
 },
 "nbformat": 4,
 "nbformat_minor": 1
}
